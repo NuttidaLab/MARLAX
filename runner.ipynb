{
 "cells": [
  {
   "cell_type": "code",
   "execution_count": 1,
   "metadata": {},
   "outputs": [],
   "source": [
    "from marlax.agents import QAgent\n",
    "from marlax.envs import GridWorld_r0, GridWorld_r3\n",
    "from marlax import Engine, Tracer"
   ]
  },
  {
   "cell_type": "code",
   "execution_count": 2,
   "metadata": {},
   "outputs": [],
   "source": [
    "from joblib import Parallel, delayed"
   ]
  },
  {
   "cell_type": "code",
   "execution_count": 3,
   "metadata": {},
   "outputs": [],
   "source": [
    "def train_and_test( seed=42, \n",
    "                    n_agents=5,\n",
    "                    grid_size=(5,5),\n",
    "                    target_reward=100,\n",
    "                    together_reward=0,\n",
    "                    travel_reward=-1,\n",
    "                    epsilon_start=0.99,\n",
    "                    epsilon_end=0.4,\n",
    "                    alpha=0.1,\n",
    "                    gamma=0.9 ): \n",
    "\n",
    "    # Set the random seed for reproducibility.\n",
    "    # random.seed(seed)\n",
    "\n",
    "    # Agents\n",
    "    target_rewards = [target_reward] * n_agents  # Reward for each agent when target is met\n",
    "    agents = [QAgent() for _ in range(n_agents)] \n",
    "\n",
    "    # List the environments and train sequentially.\n",
    "    environments = [GridWorld_r0, GridWorld_r3]\n",
    "    nsteps = [1_000_00, 1_000_00]\n",
    "    \n",
    "    tracer = Tracer(f\"store/{seed}\")\n",
    "    trainer = Engine(epsilon_start, epsilon_end, epsilon_test=0.0)\n",
    "    \n",
    "    for (i, e), steps in zip(enumerate(environments), nsteps):\n",
    "        # Create one environment per regime.\n",
    "        environment = e(grid_size, agents, target_rewards, together_reward, travel_reward)\n",
    "        trainer.train(environment, tracer, num_steps=steps, alpha=alpha, gamma=gamma, regime_idx=i)\n",
    "        trainer.test(environment, tracer, num_steps=100, regime_idx=i)\n",
    "    tracer.export_agents(environment)"
   ]
  },
  {
   "cell_type": "code",
   "execution_count": null,
   "metadata": {},
   "outputs": [],
   "source": [
    "if __name__ == '__main__':\n",
    "    seeds = list(range(10))\n",
    "    results = Parallel(n_jobs=-1)(delayed(train_and_test)(seed=s) for s in seeds)"
   ]
  }
 ],
 "metadata": {
  "kernelspec": {
   "display_name": "relax",
   "language": "python",
   "name": "python3"
  },
  "language_info": {
   "codemirror_mode": {
    "name": "ipython",
    "version": 3
   },
   "file_extension": ".py",
   "mimetype": "text/x-python",
   "name": "python",
   "nbconvert_exporter": "python",
   "pygments_lexer": "ipython3",
   "version": "3.12.9"
  }
 },
 "nbformat": 4,
 "nbformat_minor": 2
}
