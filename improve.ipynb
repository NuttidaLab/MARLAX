{
 "cells": [
  {
   "cell_type": "code",
   "execution_count": 1,
   "metadata": {},
   "outputs": [],
   "source": [
    "import os\n",
    "import glob\n",
    "import h5py\n",
    "import numpy as np\n",
    "import matplotlib.pyplot as plt\n",
    "from sklearn.svm import SVC\n",
    "from sklearn.model_selection import train_test_split\n",
    "from scipy.ndimage import uniform_filter1d\n",
    "\n",
    "from tqdm.auto import tqdm\n",
    "from joblib import Parallel, delayed\n"
   ]
  },
  {
   "cell_type": "code",
   "execution_count": 2,
   "metadata": {},
   "outputs": [],
   "source": [
    "\n",
    "###############################################################################\n",
    "# PART 1. DATA EXTRACTION & BINNING\n",
    "###############################################################################\n",
    "def extract_spike_times(file_path, regions):\n",
    "    \"\"\"\n",
    "    Extract spike times from an HDF5 file.\n",
    "   \n",
    "    Parameters:\n",
    "      file_path: path to the HDF5 file.\n",
    "      regions: list of region strings to include (e.g., ['uAHL', 'uAHR', ...]).\n",
    "   \n",
    "    Returns:\n",
    "      spike_times_dict: dictionary with keys 4, 6, and 8. Each key maps to a list of trials.\n",
    "                        Each trial is a list (over neurons) of spike time arrays.\n",
    "      neuron_ids: (not used further here, but returned for completeness).\n",
    "    \"\"\"\n",
    "    spike_times_dict = {4: np.ones(shape=(1000,10)), 6: np.ones(shape=(1000,10)), 8: np.ones(shape=(1000,10))}\n",
    "    neuron_ids = []\n",
    "    return spike_times_dict, neuron_ids\n",
    "\n",
    "def compute_binned_firing_rates(spike_times_dict, time_window, bin_size=0.001):\n",
    "    \"\"\"\n",
    "    Convert spike times (in seconds) to firing rates in 1-ms bins.\n",
    "   \n",
    "    Parameters:\n",
    "      spike_times_dict: dict with keys 4,6,8; each value is a list of trials.\n",
    "                        Each trial is a list (over neurons) of spike time arrays.\n",
    "      time_window: tuple (start, end) in seconds (e.g., (-6, 2)).\n",
    "      bin_size: bin size in seconds (0.001 sec for 1-ms bins).\n",
    "   \n",
    "    Returns:\n",
    "      firing_rates: dict with the same keys. Each value is a NumPy array of shape\n",
    "                    (n_trials, n_neurons, n_bins).\n",
    "      t_bins: array of bin edges.\n",
    "    \"\"\"\n",
    "    t_bins = np.arange(time_window[0], time_window[1] + bin_size, bin_size)\n",
    "    firing_rates = {}\n",
    "    for key, trial_list in spike_times_dict.items():\n",
    "        rates = []\n",
    "        for trial in trial_list:\n",
    "            trial_rates = []\n",
    "            for neuron_spikes in trial:\n",
    "                counts, _ = np.histogram(neuron_spikes, bins=t_bins)\n",
    "                # Firing rate in spikes per second\n",
    "                rate = counts / bin_size  \n",
    "                trial_rates.append(rate)\n",
    "            trial_rates = np.array(trial_rates)  # shape: (n_neurons, n_bins)\n",
    "            rates.append(trial_rates)\n",
    "        firing_rates[key] = np.array(rates)  # shape: (n_trials, n_neurons, n_bins)\n",
    "    return firing_rates, t_bins\n",
    "\n",
    "###############################################################################\n",
    "# PART 2. POOLING ACROSS SESSIONS TO CREATE A PSEUDOPOPULATION\n",
    "###############################################################################\n",
    "def pool_neurons(file_paths, regions, time_window, bin_size=0.001,\n",
    "                 n_trials_set4=15, n_trials_set6=7, n_trials_set8=8):\n",
    "    \"\"\"\n",
    "    Pool neurons across sessions.\n",
    "   \n",
    "    For each session, for each neuron:\n",
    "      - For set size 4 (low workload): select the first n_trials_set4 trials.\n",
    "      - For set sizes 6 and 8 (high workload): select the first n_trials_set6 and n_trials_set8 trials.\n",
    "      - Concatenate these trials to yield 30 trials per neuron.\n",
    "   \n",
    "    Returns:\n",
    "      pooled_neurons: NumPy array of shape (n_trials, total_neurons, n_bins).\n",
    "      pooled_labels: NumPy array of shape (n_trials, total_neurons) where 0 = low workload (set size 4)\n",
    "                     and 1 = high workload (set sizes 6+8).\n",
    "      t_bins: array of time bin edges.\n",
    "    \"\"\"\n",
    "    pooled_neurons_list = []\n",
    "    pooled_labels_list = []\n",
    "    for file_path in file_paths:\n",
    "        # Extract spike times from one session\n",
    "        spike_times_dict, _ = extract_spike_times(file_path, regions)\n",
    "        # Compute firing rates in 1-ms bins over the desired time window\n",
    "        firing_rates, t_bins = compute_binned_firing_rates(spike_times_dict, time_window, bin_size)\n",
    "        # Check that this session has enough trials in each condition\n",
    "        if (firing_rates[4].shape[0] < n_trials_set4 or\n",
    "            firing_rates[6].shape[0] < n_trials_set6 or\n",
    "            firing_rates[8].shape[0] < n_trials_set8):\n",
    "            continue  # skip session if insufficient trials\n",
    "       \n",
    "        # Extract a fixed number of trials from each condition\n",
    "        trials_4 = firing_rates[4][:n_trials_set4]  # low workload\n",
    "        trials_6 = firing_rates[6][:n_trials_set6]\n",
    "        trials_8 = firing_rates[8][:n_trials_set8]\n",
    "       \n",
    "        # For each neuron (assume same neuron count across conditions)\n",
    "        n_neurons = trials_4.shape[1]\n",
    "        for neuron in range(n_neurons):\n",
    "            low_trials = trials_4[:, neuron, :]  # shape: (n_trials_set4, n_bins)\n",
    "            high_trials_6 = trials_6[:, neuron, :]\n",
    "            high_trials_8 = trials_8[:, neuron, :]\n",
    "            high_trials = np.concatenate((high_trials_6, high_trials_8), axis=0)  # shape: (n_trials_set6+n_trials_set8, n_bins)\n",
    "            neuron_trials = np.concatenate((low_trials, high_trials), axis=0)  # total 30 trials\n",
    "            pooled_neurons_list.append(neuron_trials)\n",
    "            # Labels: 0 for low workload (set size 4), 1 for high workload (set sizes 6+8)\n",
    "            neuron_labels = np.concatenate((np.zeros(n_trials_set4), np.ones(n_trials_set6 + n_trials_set8)))\n",
    "            pooled_labels_list.append(neuron_labels)\n",
    "   \n",
    "    if len(pooled_neurons_list) == 0:\n",
    "        raise ValueError(\"No sessions with sufficient trials found.\")\n",
    "   \n",
    "    pooled_neurons = np.array(pooled_neurons_list)\n",
    "    pooled_labels = np.array(pooled_labels_list)\n",
    "    pooled_neurons = np.transpose(pooled_neurons, (1, 0, 2))\n",
    "    pooled_labels = np.transpose(pooled_labels, (1, 0))\n",
    "   \n",
    "    return pooled_neurons, pooled_labels, t_bins\n"
   ]
  },
  {
   "cell_type": "code",
   "execution_count": 3,
   "metadata": {},
   "outputs": [],
   "source": [
    "\n",
    "###############################################################################\n",
    "# PART 3. DECODING PIPELINE (SMOOTHING, SLIDING WINDOWS, RESAMPLING, NULL DISTRIBUTION)\n",
    "###############################################################################\n",
    "def smooth_firing_rates_matrix(X, window_size):\n",
    "    return uniform_filter1d(X.astype(float), size=window_size, axis=2, mode='nearest')\n",
    "\n",
    "\n",
    "class ProgressParallel(Parallel):\n",
    "    def __init__(self, use_tqdm=True, total=None, *args, **kwargs):\n",
    "        self._use_tqdm = use_tqdm\n",
    "        self._total = total\n",
    "        super().__init__(*args, **kwargs)\n",
    "\n",
    "    def __call__(self, *args, **kwargs):\n",
    "        with tqdm(disable=not self._use_tqdm, total=self._total) as self._pbar:\n",
    "            return Parallel.__call__(self, *args, **kwargs)\n",
    "\n",
    "    def print_progress(self):\n",
    "        if self._total is None:\n",
    "            self._pbar.total = self.n_dispatched_tasks\n",
    "        self._pbar.n = self.n_completed_tasks\n",
    "        self._pbar.refresh()\n",
    "\n",
    "def smooth_and_decode(X, labels, t_bins, window_size_ms=1500, step_size_ms=250,\n",
    "                      n_resamples=500, n_shuffles=500):\n",
    "    # Smooth the data with a 1500-ms window\n",
    "    X_smooth = smooth_firing_rates_matrix(X, window_size_ms)\n",
    "    total_time = X_smooth.shape[2]\n",
    "   \n",
    "    # Create sliding windows (indices are in ms since 1-ms bins)\n",
    "    windows = []\n",
    "    start = 0\n",
    "    while start + window_size_ms <= total_time:\n",
    "        windows.append((start, start + window_size_ms))\n",
    "        start += step_size_ms\n",
    "\n",
    "    # Determine number of windows and allocate inner-loop cores\n",
    "    n_windows = len(windows)\n",
    "    n_jobs_inner = max(1, 150 // n_windows)  # allocate available cores for inner loops\n",
    "    \n",
    "    def process_window(start, end):\n",
    "        X_window = X_smooth[:, :, start:end]  # shape: (n_trials, n_neurons, window_size_ms)\n",
    "        n_trials, n_neurons, w = X_window.shape\n",
    "        # Flatten neurons and time bins for each trial → (n_trials, n_neurons * w)\n",
    "        X_flat = X_window.reshape(n_trials, n_neurons * w)\n",
    "        # We assume the labels for each trial are the same across neurons; take the first neuron's labels.\n",
    "        y = labels[:, 0]\n",
    "       \n",
    "        def resample_iteration(seed):\n",
    "            X_train, X_test, y_train, y_test = train_test_split(\n",
    "                X_flat, y, test_size=0.3, stratify=y, random_state=seed\n",
    "            )\n",
    "            clf = SVC(kernel='linear')\n",
    "            clf.fit(X_train, y_train)\n",
    "            acc = clf.score(X_test, y_test) * 100\n",
    "            return acc\n",
    "\n",
    "        # Compute resampling accuracies in parallel\n",
    "        resample_acc = ProgressParallel(n_jobs=n_jobs_inner)(\n",
    "            delayed(resample_iteration)(seed) for seed in range(n_resamples)\n",
    "        )\n",
    "        mean_acc = np.mean(resample_acc)\n",
    "       \n",
    "        def null_iteration(seed):\n",
    "            y_shuf = np.random.permutation(y)\n",
    "            X_train, X_test, y_train, y_test = train_test_split(\n",
    "                X_flat, y_shuf, test_size=0.3, stratify=y_shuf, random_state=seed\n",
    "            )\n",
    "            clf = SVC(kernel='linear')\n",
    "            clf.fit(X_train, y_train)\n",
    "            acc = clf.score(X_test, y_test) * 100\n",
    "            return acc\n",
    "\n",
    "        # Compute null distribution accuracies in parallel\n",
    "        null_acc = ProgressParallel(n_jobs=n_jobs_inner)(\n",
    "            delayed(null_iteration)(seed) for seed in range(n_shuffles)\n",
    "        )\n",
    "        null_acc = np.array(null_acc)\n",
    "        p_val = np.mean(null_acc >= mean_acc)\n",
    "        \n",
    "        print(f\"Decoded window: {start} - {end} ms\")\n",
    "        \n",
    "        return {\n",
    "            'window': (start, end),\n",
    "            'mean_acc': mean_acc,\n",
    "            'acc_dist': resample_acc,\n",
    "            'null_dist': null_acc,\n",
    "            'p_val': p_val\n",
    "        }\n",
    "    \n",
    "    # Parallelize processing of each window across 150 cores\n",
    "    results = Parallel(n_jobs=150)(\n",
    "        delayed(process_window)(start, end) for start, end in windows\n",
    "    )\n",
    "    return results\n"
   ]
  },
  {
   "cell_type": "code",
   "execution_count": 4,
   "metadata": {},
   "outputs": [
    {
     "name": "stdout",
     "output_type": "stream",
     "text": [
      "Pooled neurons shape: (30, 100, 8000)\n",
      "Pooled labels shape: (30, 100)\n"
     ]
    }
   ],
   "source": [
    "###############################################################################\n",
    "# PART 4. MAIN SCRIPT\n",
    "###############################################################################\n",
    "# Define folder and file pattern for your data files\n",
    "# folder_path = '/data/human_mtl_units_scalp_eeg_and_ieeg_verbal_wm/data_nix/'\n",
    "# file_pattern = \"Data_Subject_*_Session_*.h5\"\n",
    "# file_paths = sorted(glob.glob(os.path.join(folder_path, file_pattern)))\n",
    "# print(\"Found session files:\")\n",
    "# for fp in file_paths:\n",
    "#     print(fp)\n",
    "\n",
    "# Define regions of interest (e.g., all regions)\n",
    "regions = ['uAHL', 'uAHR', 'uPHL', 'uPHR', 'uECL', 'uECR']\n",
    "# Define the time window for firing rate computation in seconds (e.g., -6 to 2 sec)\n",
    "time_window = (-6, 2)\n",
    "# Use 1-ms binning (0.001 sec)\n",
    "bin_size = 0.001\n",
    "\n",
    "# Pool neurons across sessions into a pseudopopulation.\n",
    "pooled_neurons, pooled_labels, t_bins = pool_neurons(\"file_paths\", regions, time_window, bin_size,\n",
    "                                                        n_trials_set4=15, n_trials_set6=7, n_trials_set8=8)\n",
    "print(\"Pooled neurons shape:\", pooled_neurons.shape)  # (n_trials, total_neurons, n_bins)\n",
    "print(\"Pooled labels shape:\", pooled_labels.shape)      # (n_trials, total_neurons)\n",
    "\n",
    "\n",
    "   "
   ]
  },
  {
   "cell_type": "code",
   "execution_count": 5,
   "metadata": {},
   "outputs": [
    {
     "name": "stderr",
     "output_type": "stream",
     "text": [
      "100%|██████████| 500/500 [00:57<00:00,  8.72it/s]\n",
      "100%|██████████| 500/500 [01:01<00:00,  8.20it/s]\n",
      "100%|██████████| 500/500 [01:01<00:00,  8.15it/s]\n",
      "100%|██████████| 500/500 [01:01<00:00,  8.09it/s]\n",
      "100%|██████████| 500/500 [01:01<00:00,  8.10it/s]\n",
      "100%|██████████| 500/500 [01:02<00:00,  8.03it/s]\n",
      "100%|██████████| 500/500 [01:01<00:00,  8.13it/s]\n",
      "100%|██████████| 500/500 [01:02<00:00,  7.99it/s]\n",
      "100%|██████████| 500/500 [01:02<00:00,  7.96it/s]\n",
      "100%|██████████| 500/500 [01:02<00:00,  7.94it/s]\n",
      "100%|██████████| 500/500 [01:03<00:00,  7.91it/s]\n",
      "100%|██████████| 500/500 [01:02<00:00,  7.94it/s]\n",
      "100%|██████████| 500/500 [01:03<00:00,  7.86it/s]\n",
      "100%|██████████| 500/500 [01:03<00:00,  7.82it/s]\n",
      "100%|██████████| 500/500 [01:04<00:00,  7.81it/s]\n",
      "100%|██████████| 500/500 [01:04<00:00,  7.75it/s]\n",
      "100%|██████████| 500/500 [01:04<00:00,  7.71it/s]\n",
      "100%|██████████| 500/500 [01:05<00:00,  7.62it/s]\n",
      "100%|██████████| 500/500 [01:04<00:00,  7.73it/s]\n",
      "100%|██████████| 500/500 [01:05<00:00,  7.65it/s]\n",
      "100%|██████████| 500/500 [01:05<00:00,  7.59it/s]\n",
      "100%|██████████| 500/500 [01:06<00:00,  7.54it/s]\n",
      "100%|██████████| 500/500 [01:05<00:00,  7.66it/s]\n",
      "100%|██████████| 500/500 [01:06<00:00,  7.53it/s]\n",
      "100%|██████████| 500/500 [01:05<00:00,  7.61it/s]\n",
      "100%|██████████| 500/500 [01:06<00:00,  7.55it/s]\n",
      "100%|██████████| 500/500 [01:07<00:00,  7.42it/s]\n",
      " 97%|█████████▋| 300/309 [01:14<00:02,  4.01it/s]\n",
      " 97%|█████████▋| 303/312 [01:14<00:02,  4.04it/s]"
     ]
    },
    {
     "name": "stdout",
     "output_type": "stream",
     "text": [
      "Decoded window: 1000 - 2500 ms\n"
     ]
    },
    {
     "name": "stderr",
     "output_type": "stream",
     "text": [
      "100%|██████████| 500/500 [01:23<00:00,  5.98it/s]\n",
      " 98%|█████████▊| 365/374 [01:27<00:02,  4.15it/s]"
     ]
    },
    {
     "name": "stdout",
     "output_type": "stream",
     "text": [
      "Decoded window: 3250 - 4750 ms\n"
     ]
    },
    {
     "name": "stderr",
     "output_type": "stream",
     "text": [
      "100%|██████████| 500/500 [01:49<00:00,  4.57it/s]\n",
      " 97%|█████████▋| 312/321 [01:46<00:03,  2.94it/s]"
     ]
    },
    {
     "name": "stdout",
     "output_type": "stream",
     "text": [
      "Decoded window: 5750 - 7250 ms\n"
     ]
    },
    {
     "name": "stderr",
     "output_type": "stream",
     "text": [
      "100%|██████████| 500/500 [01:57<00:00,  4.24it/s]\n",
      " 98%|█████████▊| 374/383 [01:56<00:02,  3.20it/s]"
     ]
    },
    {
     "name": "stdout",
     "output_type": "stream",
     "text": [
      "Decoded window: 5500 - 7000 ms\n"
     ]
    },
    {
     "name": "stderr",
     "output_type": "stream",
     "text": [
      "100%|██████████| 500/500 [01:55<00:00,  4.34it/s]\n",
      " 98%|█████████▊| 447/456 [01:57<00:02,  3.79it/s]"
     ]
    },
    {
     "name": "stdout",
     "output_type": "stream",
     "text": [
      "Decoded window: 5000 - 6500 ms\n"
     ]
    },
    {
     "name": "stderr",
     "output_type": "stream",
     "text": [
      "100%|██████████| 500/500 [02:02<00:00,  4.07it/s]\n",
      " 98%|█████████▊| 484/493 [02:03<00:02,  3.91it/s]"
     ]
    },
    {
     "name": "stdout",
     "output_type": "stream",
     "text": [
      "Decoded window: 1250 - 2750 ms\n"
     ]
    },
    {
     "name": "stderr",
     "output_type": "stream",
     "text": [
      "100%|██████████| 500/500 [02:08<00:00,  3.88it/s]\n",
      "100%|██████████| 500/500 [02:08<00:00,  3.90it/s]\n"
     ]
    },
    {
     "name": "stdout",
     "output_type": "stream",
     "text": [
      "Decoded window: 2750 - 4250 ms\n",
      "Decoded window: 5250 - 6750 ms\n"
     ]
    },
    {
     "name": "stderr",
     "output_type": "stream",
     "text": [
      "100%|██████████| 500/500 [02:05<00:00,  3.97it/s]\n",
      " 98%|█████████▊| 488/497 [02:09<00:02,  3.75it/s]"
     ]
    },
    {
     "name": "stdout",
     "output_type": "stream",
     "text": [
      "Decoded window: 4500 - 6000 ms\n"
     ]
    },
    {
     "name": "stderr",
     "output_type": "stream",
     "text": [
      "100%|██████████| 500/500 [02:06<00:00,  3.95it/s]\n",
      " 98%|█████████▊| 457/466 [02:06<00:02,  3.62it/s]"
     ]
    },
    {
     "name": "stdout",
     "output_type": "stream",
     "text": [
      "Decoded window: 3750 - 5250 ms\n"
     ]
    },
    {
     "name": "stderr",
     "output_type": "stream",
     "text": [
      "100%|██████████| 500/500 [02:11<00:00,  3.81it/s]\n",
      " 98%|█████████▊| 441/450 [02:11<00:02,  3.36it/s]"
     ]
    },
    {
     "name": "stdout",
     "output_type": "stream",
     "text": [
      "Decoded window: 4250 - 5750 ms\n"
     ]
    },
    {
     "name": "stderr",
     "output_type": "stream",
     "text": [
      "100%|██████████| 500/500 [02:11<00:00,  3.81it/s]\n",
      "100%|██████████| 500/500 [02:12<00:00,  3.77it/s]\n",
      " 98%|█████████▊| 483/492 [02:08<00:02,  3.77it/s]"
     ]
    },
    {
     "name": "stdout",
     "output_type": "stream",
     "text": [
      "Decoded window: 2000 - 3500 ms\n",
      "Decoded window: 0 - 1500 ms\n"
     ]
    },
    {
     "name": "stderr",
     "output_type": "stream",
     "text": [
      "100%|██████████| 500/500 [02:07<00:00,  3.92it/s]\n",
      " 98%|█████████▊| 468/477 [02:10<00:02,  3.58it/s]"
     ]
    },
    {
     "name": "stdout",
     "output_type": "stream",
     "text": [
      "Decoded window: 2250 - 3750 ms\n"
     ]
    },
    {
     "name": "stderr",
     "output_type": "stream",
     "text": [
      "100%|██████████| 500/500 [02:13<00:00,  3.74it/s]\n",
      " 98%|█████████▊| 448/457 [02:10<00:02,  3.45it/s]"
     ]
    },
    {
     "name": "stdout",
     "output_type": "stream",
     "text": [
      "Decoded window: 1750 - 3250 ms\n"
     ]
    },
    {
     "name": "stderr",
     "output_type": "stream",
     "text": [
      "100%|██████████| 500/500 [02:10<00:00,  3.84it/s]\n",
      " 98%|█████████▊| 451/460 [02:10<00:02,  3.46it/s]"
     ]
    },
    {
     "name": "stdout",
     "output_type": "stream",
     "text": [
      "Decoded window: 2500 - 4000 ms\n"
     ]
    },
    {
     "name": "stderr",
     "output_type": "stream",
     "text": [
      "100%|██████████| 500/500 [02:15<00:00,  3.70it/s]\n",
      " 98%|█████████▊| 448/457 [02:13<00:02,  3.36it/s]"
     ]
    },
    {
     "name": "stdout",
     "output_type": "stream",
     "text": [
      "Decoded window: 1500 - 3000 ms\n"
     ]
    },
    {
     "name": "stderr",
     "output_type": "stream",
     "text": [
      "100%|██████████| 500/500 [02:10<00:00,  3.82it/s]\n",
      " 98%|█████████▊| 456/465 [02:14<00:02,  3.39it/s]"
     ]
    },
    {
     "name": "stdout",
     "output_type": "stream",
     "text": [
      "Decoded window: 3500 - 5000 ms\n",
      "Decoded window: 3000 - 4500 ms\n"
     ]
    },
    {
     "name": "stderr",
     "output_type": "stream",
     "text": [
      "100%|██████████| 500/500 [02:12<00:00,  3.78it/s]\n",
      "100%|██████████| 500/500 [02:12<00:00,  3.77it/s]\n",
      " 98%|█████████▊| 464/473 [02:14<00:02,  3.44it/s]"
     ]
    },
    {
     "name": "stdout",
     "output_type": "stream",
     "text": [
      "Decoded window: 4000 - 5500 ms\n"
     ]
    },
    {
     "name": "stderr",
     "output_type": "stream",
     "text": [
      "100%|██████████| 500/500 [02:13<00:00,  3.74it/s]\n",
      " 98%|█████████▊| 477/486 [02:15<00:02,  3.52it/s]"
     ]
    },
    {
     "name": "stdout",
     "output_type": "stream",
     "text": [
      "Decoded window: 250 - 1750 ms\n"
     ]
    },
    {
     "name": "stderr",
     "output_type": "stream",
     "text": [
      "100%|██████████| 500/500 [02:17<00:00,  3.65it/s]\n",
      " 98%|█████████▊| 488/497 [02:16<00:02,  3.58it/s]"
     ]
    },
    {
     "name": "stdout",
     "output_type": "stream",
     "text": [
      "Decoded window: 6250 - 7750 ms\n",
      "Decoded window: 6500 - 8000 ms\n",
      "Decoded window: 500 - 2000 ms\n"
     ]
    },
    {
     "name": "stderr",
     "output_type": "stream",
     "text": [
      "100%|██████████| 500/500 [02:13<00:00,  3.75it/s]\n",
      "100%|██████████| 500/500 [02:14<00:00,  3.72it/s]\n",
      "100%|██████████| 500/500 [02:16<00:00,  3.67it/s]\n",
      " 98%|█████████▊| 481/490 [02:13<00:02,  3.60it/s]"
     ]
    },
    {
     "name": "stdout",
     "output_type": "stream",
     "text": [
      "Decoded window: 750 - 2250 ms\n",
      "Decoded window: 6000 - 7500 ms\n"
     ]
    },
    {
     "name": "stderr",
     "output_type": "stream",
     "text": [
      "100%|██████████| 500/500 [02:16<00:00,  3.67it/s]\n",
      "100%|██████████| 500/500 [02:13<00:00,  3.74it/s]\n"
     ]
    },
    {
     "name": "stdout",
     "output_type": "stream",
     "text": [
      "Decoded window: 4750 - 6250 ms\n"
     ]
    }
   ],
   "source": [
    "# Run the decoding pipeline.\n",
    "# (We use a 1500-ms decoding window stepped every 250 ms.)\n",
    "results = smooth_and_decode(pooled_neurons, pooled_labels, t_bins,\n",
    "                            window_size_ms=1500, step_size_ms=250,\n",
    "                            n_resamples=500, n_shuffles=500)"
   ]
  },
  {
   "cell_type": "code",
   "execution_count": 6,
   "metadata": {},
   "outputs": [
    {
     "data": {
      "image/png": "[encoded data removed]",
      "text/plain": [
       "<Figure size 1000x600 with 1 Axes>"
      ]
     },
     "metadata": {},
     "output_type": "display_data"
    },
    {
     "name": "stdout",
     "output_type": "stream",
     "text": [
      "Window (0, 1500): Mean Accuracy = 44.44%, p-value = 1.0000\n",
      "Window (250, 1750): Mean Accuracy = 44.44%, p-value = 1.0000\n",
      "Window (500, 2000): Mean Accuracy = 44.44%, p-value = 1.0000\n",
      "Window (750, 2250): Mean Accuracy = 44.44%, p-value = 1.0000\n",
      "Window (1000, 2500): Mean Accuracy = 44.44%, p-value = 1.0000\n",
      "Window (1250, 2750): Mean Accuracy = 44.44%, p-value = 1.0000\n",
      "Window (1500, 3000): Mean Accuracy = 44.44%, p-value = 1.0000\n",
      "Window (1750, 3250): Mean Accuracy = 44.44%, p-value = 1.0000\n",
      "Window (2000, 3500): Mean Accuracy = 44.44%, p-value = 1.0000\n",
      "Window (2250, 3750): Mean Accuracy = 44.44%, p-value = 1.0000\n",
      "Window (2500, 4000): Mean Accuracy = 44.44%, p-value = 1.0000\n",
      "Window (2750, 4250): Mean Accuracy = 44.44%, p-value = 1.0000\n",
      "Window (3000, 4500): Mean Accuracy = 44.44%, p-value = 1.0000\n",
      "Window (3250, 4750): Mean Accuracy = 44.44%, p-value = 1.0000\n",
      "Window (3500, 5000): Mean Accuracy = 44.44%, p-value = 1.0000\n",
      "Window (3750, 5250): Mean Accuracy = 44.44%, p-value = 1.0000\n",
      "Window (4000, 5500): Mean Accuracy = 44.44%, p-value = 1.0000\n",
      "Window (4250, 5750): Mean Accuracy = 44.44%, p-value = 1.0000\n",
      "Window (4500, 6000): Mean Accuracy = 44.44%, p-value = 1.0000\n",
      "Window (4750, 6250): Mean Accuracy = 44.44%, p-value = 1.0000\n",
      "Window (5000, 6500): Mean Accuracy = 44.44%, p-value = 1.0000\n",
      "Window (5250, 6750): Mean Accuracy = 44.44%, p-value = 1.0000\n",
      "Window (5500, 7000): Mean Accuracy = 44.44%, p-value = 1.0000\n",
      "Window (5750, 7250): Mean Accuracy = 44.44%, p-value = 1.0000\n",
      "Window (6000, 7500): Mean Accuracy = 44.44%, p-value = 1.0000\n",
      "Window (6250, 7750): Mean Accuracy = 44.44%, p-value = 1.0000\n",
      "Window (6500, 8000): Mean Accuracy = 44.44%, p-value = 1.0000\n"
     ]
    }
   ],
   "source": [
    "# Plot the mean decoding accuracy over time (using the window start times)\n",
    "window_starts = [r['window'][0] for r in results]\n",
    "mean_accuracies = [r['mean_acc'] for r in results]\n",
    "\n",
    "plt.figure(figsize=(10, 6))\n",
    "plt.plot(window_starts, mean_accuracies, marker='o', linestyle='-')\n",
    "plt.xlabel('Start of Time Window (ms)')\n",
    "plt.ylabel('Mean Accuracy (%)')\n",
    "plt.title('Decoding Accuracy Over Time (Pseudopopulation)')\n",
    "plt.axhline(50, color='red', linestyle='--', label='Chance Level')\n",
    "plt.legend()\n",
    "plt.tight_layout()\n",
    "plt.show()\n",
    "\n",
    "# Print p-values for each time window.\n",
    "for r in results:\n",
    "    print(f\"Window {r['window']}: Mean Accuracy = {r['mean_acc']:.2f}%, p-value = {r['p_val']:.4f}\")"
   ]
  },
  {
   "cell_type": "code",
   "execution_count": null,
   "metadata": {},
   "outputs": [],
   "source": []
  }
 ],
 "metadata": {
  "kernelspec": {
   "display_name": "relax",
   "language": "python",
   "name": "python3"
  },
  "language_info": {
   "codemirror_mode": {
    "name": "ipython",
    "version": 3
   },
   "file_extension": ".py",
   "mimetype": "text/x-python",
   "name": "python",
   "nbconvert_exporter": "python",
   "pygments_lexer": "ipython3",
   "version": "3.12.9"
  }
 },
 "nbformat": 4,
 "nbformat_minor": 2
}
